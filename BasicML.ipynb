{
  "nbformat": 4,
  "nbformat_minor": 0,
  "metadata": {
    "colab": {
      "name": "BasicML.ipynb",
      "provenance": [],
      "authorship_tag": "ABX9TyOGQztOnLGSARXpoQHYVTGn",
      "include_colab_link": true
    },
    "kernelspec": {
      "name": "python3",
      "display_name": "Python 3"
    },
    "language_info": {
      "name": "python"
    }
  },
  "cells": [
    {
      "cell_type": "markdown",
      "metadata": {
        "id": "view-in-github",
        "colab_type": "text"
      },
      "source": [
        "<a href=\"https://colab.research.google.com/github/SakethaAkella/BasicML/blob/main/BasicML.ipynb\" target=\"_parent\"><img src=\"https://colab.research.google.com/assets/colab-badge.svg\" alt=\"Open In Colab\"/></a>"
      ]
    },
    {
      "cell_type": "markdown",
      "metadata": {
        "id": "dUovkYHoVnPo"
      },
      "source": [
        "1. EVEN or ODD"
      ]
    },
    {
      "cell_type": "code",
      "metadata": {
        "colab": {
          "base_uri": "https://localhost:8080/"
        },
        "id": "MjgJgjP6V2L0",
        "outputId": "eb26ebb9-f31c-4540-a41d-f68fa199760a"
      },
      "source": [
        "n=int(input())\n",
        "if n%2==0:\n",
        "  print(\"Even number\")\n",
        "else:\n",
        "  print(\"Odd number\")"
      ],
      "execution_count": 1,
      "outputs": [
        {
          "output_type": "stream",
          "text": [
            "22\n",
            "Even number\n"
          ],
          "name": "stdout"
        }
      ]
    },
    {
      "cell_type": "markdown",
      "metadata": {
        "id": "2IaCVnRZWr_6"
      },
      "source": [
        "2. Greet the user"
      ]
    },
    {
      "cell_type": "code",
      "metadata": {
        "colab": {
          "base_uri": "https://localhost:8080/"
        },
        "id": "r2EH8SYoW0pP",
        "outputId": "05d42fd9-8c83-47bb-be03-dcbb7147547e"
      },
      "source": [
        "user_name=input()\n",
        "print(\"Hello\",user_name)"
      ],
      "execution_count": 2,
      "outputs": [
        {
          "output_type": "stream",
          "text": [
            "John\n",
            "Hello John\n"
          ],
          "name": "stdout"
        }
      ]
    },
    {
      "cell_type": "markdown",
      "metadata": {
        "id": "nGHT_JbPXUhI"
      },
      "source": [
        "3. Add two numbers"
      ]
    },
    {
      "cell_type": "code",
      "metadata": {
        "colab": {
          "base_uri": "https://localhost:8080/"
        },
        "id": "hl8I6HB9XnsL",
        "outputId": "acb47049-aebb-45ea-e1a4-591dbbf33bb4"
      },
      "source": [
        "num_1=int(input())\n",
        "num_2=int(input())\n",
        "print(\"The sum is\",num_1+num_2)"
      ],
      "execution_count": 4,
      "outputs": [
        {
          "output_type": "stream",
          "text": [
            "234\n",
            "356\n",
            "The sum is 590\n"
          ],
          "name": "stdout"
        }
      ]
    }
  ]
}